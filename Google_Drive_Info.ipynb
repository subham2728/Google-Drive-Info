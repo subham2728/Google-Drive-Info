{
  "nbformat": 4,
  "nbformat_minor": 0,
  "metadata": {
    "colab": {
      "provenance": [],
      "mount_file_id": "1z_FDzZJPZLi3hpbvtMc-Z5LjzoHfyIot",
      "authorship_tag": "ABX9TyPOU+1cPifHztwzKZIlGivH"
    },
    "kernelspec": {
      "name": "python3",
      "display_name": "Python 3"
    },
    "language_info": {
      "name": "python"
    },
    "accelerator": "TPU"
  },
  "cells": [
    {
      "cell_type": "markdown",
      "source": [
        "### Mounting Drive\n"
      ],
      "metadata": {
        "id": "mLi5a3-dsbWi"
      }
    },
    {
      "cell_type": "code",
      "source": [
        "from google.colab import drive\n",
        "drive.mount('/content/drive')"
      ],
      "metadata": {
        "id": "titQIBQKsg33"
      },
      "execution_count": null,
      "outputs": []
    },
    {
      "cell_type": "markdown",
      "source": [
        "### To view the size of every folder on your drive\n",
        "> Change ``` Drive/* ``` with your designated folder like ```Drive/<Your folder>```\n",
        "\n",
        "\n"
      ],
      "metadata": {
        "id": "4iRobHGgtNOQ"
      }
    },
    {
      "cell_type": "code",
      "source": [
        "! du -sh /content/drive/My\\ Drive/*"
      ],
      "metadata": {
        "id": "4NrkyMNsLhx2"
      },
      "execution_count": null,
      "outputs": []
    },
    {
      "cell_type": "markdown",
      "source": [
        "### To view the total number of files in a directory, including subdirectories"
      ],
      "metadata": {
        "id": "u0Eei7IFuSUc"
      }
    },
    {
      "cell_type": "code",
      "source": [
        "import os\n",
        "FOLDER_PATH = '<Designated-Directory>'\n",
        "ROOT_PATH = '/content/drive/MyDrive/'\n",
        "total = 0\n",
        "for root, dirs, files in os.walk(os.path.join(ROOT_PATH, FOLDER_PATH)):\n",
        "    total += len(files)\n",
        "print(total)"
      ],
      "metadata": {
        "id": "eD3bFieOysil"
      },
      "execution_count": null,
      "outputs": []
    }
  ]
}